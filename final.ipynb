{
  "nbformat": 4,
  "nbformat_minor": 0,
  "metadata": {
    "colab": {
      "provenance": []
    },
    "kernelspec": {
      "name": "python3",
      "display_name": "Python 3"
    },
    "language_info": {
      "name": "python"
    }
  },
  "cells": [
    {
      "cell_type": "code",
      "execution_count": 1,
      "metadata": {
        "colab": {
          "base_uri": "https://localhost:8080/"
        },
        "id": "Ik9f_Cg7ziDC",
        "outputId": "f80d3237-9b7a-4552-c9f7-a988be7437a7"
      },
      "outputs": [
        {
          "output_type": "stream",
          "name": "stdout",
          "text": [
            "       age          job  marital  education default  balance housing loan  \\\n",
            "0       59       admin.  married  secondary      no     2343     yes   no   \n",
            "1       56       admin.  married  secondary      no       45      no   no   \n",
            "2       41   technician  married  secondary      no     1270     yes   no   \n",
            "3       55     services  married  secondary      no     2476     yes   no   \n",
            "4       54       admin.  married   tertiary      no      184      no   no   \n",
            "...    ...          ...      ...        ...     ...      ...     ...  ...   \n",
            "11157   33  blue-collar   single    primary      no        1     yes   no   \n",
            "11158   39     services  married  secondary      no      733      no   no   \n",
            "11159   32   technician   single  secondary      no       29      no   no   \n",
            "11160   43   technician  married  secondary      no        0      no  yes   \n",
            "11161   34   technician  married  secondary      no        0      no   no   \n",
            "\n",
            "        contact  day month  duration  campaign  pdays  previous poutcome  \\\n",
            "0       unknown    5   may      1042         1     -1         0  unknown   \n",
            "1       unknown    5   may      1467         1     -1         0  unknown   \n",
            "2       unknown    5   may      1389         1     -1         0  unknown   \n",
            "3       unknown    5   may       579         1     -1         0  unknown   \n",
            "4       unknown    5   may       673         2     -1         0  unknown   \n",
            "...         ...  ...   ...       ...       ...    ...       ...      ...   \n",
            "11157  cellular   20   apr       257         1     -1         0  unknown   \n",
            "11158   unknown   16   jun        83         4     -1         0  unknown   \n",
            "11159  cellular   19   aug       156         2     -1         0  unknown   \n",
            "11160  cellular    8   may         9         2    172         5  failure   \n",
            "11161  cellular    9   jul       628         1     -1         0  unknown   \n",
            "\n",
            "      deposit  \n",
            "0         yes  \n",
            "1         yes  \n",
            "2         yes  \n",
            "3         yes  \n",
            "4         yes  \n",
            "...       ...  \n",
            "11157      no  \n",
            "11158      no  \n",
            "11159      no  \n",
            "11160      no  \n",
            "11161      no  \n",
            "\n",
            "[11162 rows x 17 columns]\n"
          ]
        }
      ],
      "source": [
        "import pandas as pd\n",
        "a=pd.read_csv('/content/bank.csv')\n",
        "print(a)"
      ]
    },
    {
      "cell_type": "code",
      "source": [
        "y=a['balance']\n",
        "print(y)\n",
        "X=a.drop(\"balance\",axis=1)\n",
        "print(X)"
      ],
      "metadata": {
        "colab": {
          "base_uri": "https://localhost:8080/"
        },
        "id": "tnl2H5is1-ZY",
        "outputId": "70dcf44c-b99b-4745-c961-8359e7e5999d"
      },
      "execution_count": 2,
      "outputs": [
        {
          "output_type": "stream",
          "name": "stdout",
          "text": [
            "0        2343\n",
            "1          45\n",
            "2        1270\n",
            "3        2476\n",
            "4         184\n",
            "         ... \n",
            "11157       1\n",
            "11158     733\n",
            "11159      29\n",
            "11160       0\n",
            "11161       0\n",
            "Name: balance, Length: 11162, dtype: int64\n",
            "       age          job  marital  education default housing loan   contact  \\\n",
            "0       59       admin.  married  secondary      no     yes   no   unknown   \n",
            "1       56       admin.  married  secondary      no      no   no   unknown   \n",
            "2       41   technician  married  secondary      no     yes   no   unknown   \n",
            "3       55     services  married  secondary      no     yes   no   unknown   \n",
            "4       54       admin.  married   tertiary      no      no   no   unknown   \n",
            "...    ...          ...      ...        ...     ...     ...  ...       ...   \n",
            "11157   33  blue-collar   single    primary      no     yes   no  cellular   \n",
            "11158   39     services  married  secondary      no      no   no   unknown   \n",
            "11159   32   technician   single  secondary      no      no   no  cellular   \n",
            "11160   43   technician  married  secondary      no      no  yes  cellular   \n",
            "11161   34   technician  married  secondary      no      no   no  cellular   \n",
            "\n",
            "       day month  duration  campaign  pdays  previous poutcome deposit  \n",
            "0        5   may      1042         1     -1         0  unknown     yes  \n",
            "1        5   may      1467         1     -1         0  unknown     yes  \n",
            "2        5   may      1389         1     -1         0  unknown     yes  \n",
            "3        5   may       579         1     -1         0  unknown     yes  \n",
            "4        5   may       673         2     -1         0  unknown     yes  \n",
            "...    ...   ...       ...       ...    ...       ...      ...     ...  \n",
            "11157   20   apr       257         1     -1         0  unknown      no  \n",
            "11158   16   jun        83         4     -1         0  unknown      no  \n",
            "11159   19   aug       156         2     -1         0  unknown      no  \n",
            "11160    8   may         9         2    172         5  failure      no  \n",
            "11161    9   jul       628         1     -1         0  unknown      no  \n",
            "\n",
            "[11162 rows x 16 columns]\n"
          ]
        }
      ]
    },
    {
      "cell_type": "code",
      "source": [
        "a['marital']=a['marital'].replace({'single':0,'married':1})\n",
        "#print(a)\n",
        "a['housing']=a['housing'].replace({'yes':0,'no':1})\n",
        "a['deposit']=a['deposit'].replace({'yes':0,'no':1})\n",
        "print(a)"
      ],
      "metadata": {
        "colab": {
          "base_uri": "https://localhost:8080/"
        },
        "id": "C3YQheVz2B4v",
        "outputId": "34117df1-a2f2-4927-875d-7b50b28e30fd"
      },
      "execution_count": 3,
      "outputs": [
        {
          "output_type": "stream",
          "name": "stdout",
          "text": [
            "       age          job marital  education default  balance  housing loan  \\\n",
            "0       59       admin.       1  secondary      no     2343        0   no   \n",
            "1       56       admin.       1  secondary      no       45        1   no   \n",
            "2       41   technician       1  secondary      no     1270        0   no   \n",
            "3       55     services       1  secondary      no     2476        0   no   \n",
            "4       54       admin.       1   tertiary      no      184        1   no   \n",
            "...    ...          ...     ...        ...     ...      ...      ...  ...   \n",
            "11157   33  blue-collar       0    primary      no        1        0   no   \n",
            "11158   39     services       1  secondary      no      733        1   no   \n",
            "11159   32   technician       0  secondary      no       29        1   no   \n",
            "11160   43   technician       1  secondary      no        0        1  yes   \n",
            "11161   34   technician       1  secondary      no        0        1   no   \n",
            "\n",
            "        contact  day month  duration  campaign  pdays  previous poutcome  \\\n",
            "0       unknown    5   may      1042         1     -1         0  unknown   \n",
            "1       unknown    5   may      1467         1     -1         0  unknown   \n",
            "2       unknown    5   may      1389         1     -1         0  unknown   \n",
            "3       unknown    5   may       579         1     -1         0  unknown   \n",
            "4       unknown    5   may       673         2     -1         0  unknown   \n",
            "...         ...  ...   ...       ...       ...    ...       ...      ...   \n",
            "11157  cellular   20   apr       257         1     -1         0  unknown   \n",
            "11158   unknown   16   jun        83         4     -1         0  unknown   \n",
            "11159  cellular   19   aug       156         2     -1         0  unknown   \n",
            "11160  cellular    8   may         9         2    172         5  failure   \n",
            "11161  cellular    9   jul       628         1     -1         0  unknown   \n",
            "\n",
            "       deposit  \n",
            "0            0  \n",
            "1            0  \n",
            "2            0  \n",
            "3            0  \n",
            "4            0  \n",
            "...        ...  \n",
            "11157        1  \n",
            "11158        1  \n",
            "11159        1  \n",
            "11160        1  \n",
            "11161        1  \n",
            "\n",
            "[11162 rows x 17 columns]\n"
          ]
        }
      ]
    },
    {
      "cell_type": "code",
      "source": [
        "x1=a.drop(\"job\",axis=1)\n",
        "x2=x1.drop(\"education\",axis=1)\n",
        "x3=x2.drop(\"default\",axis=1)\n",
        "x4=x3.drop(\"contact\",axis=1)\n",
        "x5=x4.drop(\"month\",axis=1)\n",
        "x6=x5.drop(\"poutcome\",axis=1)\n",
        "x7=x6.drop(\"loan\",axis=1)\n",
        "x8=x7.drop(\"marital\",axis=1)\n",
        "print(x8)"
      ],
      "metadata": {
        "colab": {
          "base_uri": "https://localhost:8080/"
        },
        "id": "DjcNPK_G2LWJ",
        "outputId": "b01ad8a1-9ed6-4f3b-99e5-3cac8c2186a3"
      },
      "execution_count": 4,
      "outputs": [
        {
          "output_type": "stream",
          "name": "stdout",
          "text": [
            "       age  balance  housing  day  duration  campaign  pdays  previous  \\\n",
            "0       59     2343        0    5      1042         1     -1         0   \n",
            "1       56       45        1    5      1467         1     -1         0   \n",
            "2       41     1270        0    5      1389         1     -1         0   \n",
            "3       55     2476        0    5       579         1     -1         0   \n",
            "4       54      184        1    5       673         2     -1         0   \n",
            "...    ...      ...      ...  ...       ...       ...    ...       ...   \n",
            "11157   33        1        0   20       257         1     -1         0   \n",
            "11158   39      733        1   16        83         4     -1         0   \n",
            "11159   32       29        1   19       156         2     -1         0   \n",
            "11160   43        0        1    8         9         2    172         5   \n",
            "11161   34        0        1    9       628         1     -1         0   \n",
            "\n",
            "       deposit  \n",
            "0            0  \n",
            "1            0  \n",
            "2            0  \n",
            "3            0  \n",
            "4            0  \n",
            "...        ...  \n",
            "11157        1  \n",
            "11158        1  \n",
            "11159        1  \n",
            "11160        1  \n",
            "11161        1  \n",
            "\n",
            "[11162 rows x 9 columns]\n"
          ]
        }
      ]
    },
    {
      "cell_type": "code",
      "source": [
        "x=x8.iloc[:,0:8]\n",
        "y=x8.iloc[:,8:9]\n",
        "print(x)\n",
        "print(y)"
      ],
      "metadata": {
        "colab": {
          "base_uri": "https://localhost:8080/"
        },
        "id": "Kx16d4302Rzj",
        "outputId": "abff732b-fb1a-424c-8a81-db85c5a9cb6d"
      },
      "execution_count": 5,
      "outputs": [
        {
          "output_type": "stream",
          "name": "stdout",
          "text": [
            "       age  balance  housing  day  duration  campaign  pdays  previous\n",
            "0       59     2343        0    5      1042         1     -1         0\n",
            "1       56       45        1    5      1467         1     -1         0\n",
            "2       41     1270        0    5      1389         1     -1         0\n",
            "3       55     2476        0    5       579         1     -1         0\n",
            "4       54      184        1    5       673         2     -1         0\n",
            "...    ...      ...      ...  ...       ...       ...    ...       ...\n",
            "11157   33        1        0   20       257         1     -1         0\n",
            "11158   39      733        1   16        83         4     -1         0\n",
            "11159   32       29        1   19       156         2     -1         0\n",
            "11160   43        0        1    8         9         2    172         5\n",
            "11161   34        0        1    9       628         1     -1         0\n",
            "\n",
            "[11162 rows x 8 columns]\n",
            "       deposit\n",
            "0            0\n",
            "1            0\n",
            "2            0\n",
            "3            0\n",
            "4            0\n",
            "...        ...\n",
            "11157        1\n",
            "11158        1\n",
            "11159        1\n",
            "11160        1\n",
            "11161        1\n",
            "\n",
            "[11162 rows x 1 columns]\n"
          ]
        }
      ]
    },
    {
      "cell_type": "code",
      "source": [
        "import pandas as pd\n",
        "from sklearn.preprocessing import MinMaxScaler\n",
        "file_path = '/content/bank.csv'\n",
        "data=pd.read_csv(file_path)\n",
        "row= ['age','balance','day','duration','campaign','pdays','previous','housing']\n",
        "scaler = MinMaxScaler()\n",
        "x[row] = scaler.fit_transform(x[row])\n",
        "print(x[row])"
      ],
      "metadata": {
        "colab": {
          "base_uri": "https://localhost:8080/"
        },
        "id": "WmBSOIJP2XCg",
        "outputId": "d5185e1c-b9c4-47ee-c4e0-84f773785750"
      },
      "execution_count": 6,
      "outputs": [
        {
          "output_type": "stream",
          "name": "stdout",
          "text": [
            "            age   balance       day  duration  campaign     pdays  previous  \\\n",
            "0      0.532468  0.104371  0.133333  0.268110  0.000000  0.000000  0.000000   \n",
            "1      0.493506  0.078273  0.133333  0.377675  0.000000  0.000000  0.000000   \n",
            "2      0.298701  0.092185  0.133333  0.357566  0.000000  0.000000  0.000000   \n",
            "3      0.480519  0.105882  0.133333  0.148750  0.000000  0.000000  0.000000   \n",
            "4      0.467532  0.079851  0.133333  0.172983  0.016129  0.000000  0.000000   \n",
            "...         ...       ...       ...       ...       ...       ...       ...   \n",
            "11157  0.194805  0.077773  0.633333  0.065739  0.000000  0.000000  0.000000   \n",
            "11158  0.272727  0.086086  0.500000  0.020882  0.048387  0.000000  0.000000   \n",
            "11159  0.181818  0.078091  0.600000  0.039701  0.016129  0.000000  0.000000   \n",
            "11160  0.324675  0.077762  0.233333  0.001805  0.016129  0.202339  0.086207   \n",
            "11161  0.207792  0.077762  0.266667  0.161382  0.000000  0.000000  0.000000   \n",
            "\n",
            "       housing  \n",
            "0          0.0  \n",
            "1          1.0  \n",
            "2          0.0  \n",
            "3          0.0  \n",
            "4          1.0  \n",
            "...        ...  \n",
            "11157      0.0  \n",
            "11158      1.0  \n",
            "11159      1.0  \n",
            "11160      1.0  \n",
            "11161      1.0  \n",
            "\n",
            "[11162 rows x 8 columns]\n"
          ]
        }
      ]
    },
    {
      "cell_type": "code",
      "source": [
        "from sklearn.model_selection import train_test_split\n",
        "from sklearn.linear_model import LogisticRegression\n",
        "x_train, x_test, y_train, y_test= train_test_split(x , y, test_size=0.20, random_state=42)\n",
        "print(y_train,x_train)\n",
        "lg=LogisticRegression()\n",
        "mm=lg.fit(x_train,y_train)\n",
        "print(mm.score(x_test,y_test))\n",
        "print(mm.score(x_train,y_train))\n",
        "yp=mm.predict(x_test)\n",
        "#print(accuracy_score(yp,y_test))"
      ],
      "metadata": {
        "colab": {
          "base_uri": "https://localhost:8080/"
        },
        "id": "xqrZO4_D2cHv",
        "outputId": "f334aed4-87ab-4609-eb61-7cf188fa1713"
      },
      "execution_count": 7,
      "outputs": [
        {
          "output_type": "stream",
          "name": "stdout",
          "text": [
            "       deposit\n",
            "3955         0\n",
            "11150        1\n",
            "5173         0\n",
            "3017         0\n",
            "2910         0\n",
            "...        ...\n",
            "5734         1\n",
            "5191         0\n",
            "5390         1\n",
            "860          0\n",
            "7270         1\n",
            "\n",
            "[8929 rows x 1 columns]             age   balance  housing       day  duration  campaign     pdays  \\\n",
            "3955   0.129870  0.142963      1.0  0.300000  0.268110  0.064516  0.235088   \n",
            "11150  0.207792  0.081794      1.0  0.666667  0.080433  0.032258  0.000000   \n",
            "5173   0.389610  0.080045      1.0  0.300000  0.152617  0.000000  0.107602   \n",
            "3017   0.454545  0.100033      1.0  0.466667  0.089972  0.000000  0.000000   \n",
            "2910   0.454545  0.096206      1.0  0.333333  0.042279  0.032258  0.114620   \n",
            "...         ...       ...      ...       ...       ...       ...       ...   \n",
            "5734   0.376623  0.086404      0.0  0.333333  0.020108  0.016129  0.000000   \n",
            "5191   0.129870  0.079568      1.0  0.500000  0.115236  0.016129  0.039766   \n",
            "5390   0.220779  0.090754      1.0  0.633333  0.050271  0.193548  0.000000   \n",
            "860    0.428571  0.086234      1.0  0.800000  0.095385  0.064516  0.000000   \n",
            "7270   0.155844  0.077784      1.0  0.733333  0.068832  0.000000  0.000000   \n",
            "\n",
            "       previous  \n",
            "3955   0.051724  \n",
            "11150  0.000000  \n",
            "5173   0.017241  \n",
            "3017   0.000000  \n",
            "2910   0.120690  \n",
            "...         ...  \n",
            "5734   0.000000  \n",
            "5191   0.068966  \n",
            "5390   0.000000  \n",
            "860    0.000000  \n",
            "7270   0.000000  \n",
            "\n",
            "[8929 rows x 8 columns]\n",
            "0.7671294223018361\n",
            "0.7691790794041886\n"
          ]
        },
        {
          "output_type": "stream",
          "name": "stderr",
          "text": [
            "/usr/local/lib/python3.10/dist-packages/sklearn/utils/validation.py:1143: DataConversionWarning: A column-vector y was passed when a 1d array was expected. Please change the shape of y to (n_samples, ), for example using ravel().\n",
            "  y = column_or_1d(y, warn=True)\n"
          ]
        }
      ]
    },
    {
      "cell_type": "code",
      "source": [
        "from sklearn.svm import SVC\n",
        "from sklearn.model_selection import train_test_split\n",
        "#from sklearn.linear_model import LogisticRegression\n",
        "x_train, x_test, y_train, y_test= train_test_split(x , y, test_size=0.20, random_state=42)\n",
        "print(y_train,x_train)\n",
        "lg=SVC()\n",
        "mm=lg.fit(x_train,y_train)\n",
        "print(mm.score(x_test,y_test))\n",
        "print(mm.score(x_train,y_train))\n",
        "yp=mm.predict(x_test)\n",
        "#print(accuracy_score(yp,y_test))"
      ],
      "metadata": {
        "colab": {
          "base_uri": "https://localhost:8080/"
        },
        "id": "B96hL1273TPs",
        "outputId": "16d19867-d333-4170-83f2-f50ae186e170"
      },
      "execution_count": 8,
      "outputs": [
        {
          "output_type": "stream",
          "name": "stdout",
          "text": [
            "       deposit\n",
            "3955         0\n",
            "11150        1\n",
            "5173         0\n",
            "3017         0\n",
            "2910         0\n",
            "...        ...\n",
            "5734         1\n",
            "5191         0\n",
            "5390         1\n",
            "860          0\n",
            "7270         1\n",
            "\n",
            "[8929 rows x 1 columns]             age   balance  housing       day  duration  campaign     pdays  \\\n",
            "3955   0.129870  0.142963      1.0  0.300000  0.268110  0.064516  0.235088   \n",
            "11150  0.207792  0.081794      1.0  0.666667  0.080433  0.032258  0.000000   \n",
            "5173   0.389610  0.080045      1.0  0.300000  0.152617  0.000000  0.107602   \n",
            "3017   0.454545  0.100033      1.0  0.466667  0.089972  0.000000  0.000000   \n",
            "2910   0.454545  0.096206      1.0  0.333333  0.042279  0.032258  0.114620   \n",
            "...         ...       ...      ...       ...       ...       ...       ...   \n",
            "5734   0.376623  0.086404      0.0  0.333333  0.020108  0.016129  0.000000   \n",
            "5191   0.129870  0.079568      1.0  0.500000  0.115236  0.016129  0.039766   \n",
            "5390   0.220779  0.090754      1.0  0.633333  0.050271  0.193548  0.000000   \n",
            "860    0.428571  0.086234      1.0  0.800000  0.095385  0.064516  0.000000   \n",
            "7270   0.155844  0.077784      1.0  0.733333  0.068832  0.000000  0.000000   \n",
            "\n",
            "       previous  \n",
            "3955   0.051724  \n",
            "11150  0.000000  \n",
            "5173   0.017241  \n",
            "3017   0.000000  \n",
            "2910   0.120690  \n",
            "...         ...  \n",
            "5734   0.000000  \n",
            "5191   0.068966  \n",
            "5390   0.000000  \n",
            "860    0.000000  \n",
            "7270   0.000000  \n",
            "\n",
            "[8929 rows x 8 columns]\n"
          ]
        },
        {
          "output_type": "stream",
          "name": "stderr",
          "text": [
            "/usr/local/lib/python3.10/dist-packages/sklearn/utils/validation.py:1143: DataConversionWarning: A column-vector y was passed when a 1d array was expected. Please change the shape of y to (n_samples, ), for example using ravel().\n",
            "  y = column_or_1d(y, warn=True)\n"
          ]
        },
        {
          "output_type": "stream",
          "name": "stdout",
          "text": [
            "0.781012091356919\n",
            "0.7951618322320528\n"
          ]
        }
      ]
    }
  ]
}